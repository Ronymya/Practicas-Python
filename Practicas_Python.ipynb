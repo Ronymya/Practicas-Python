{
  "nbformat": 4,
  "nbformat_minor": 0,
  "metadata": {
    "colab": {
      "provenance": [],
      "authorship_tag": "ABX9TyOZIzqXpdBXl84RveTJ1YRy",
      "include_colab_link": true
    },
    "kernelspec": {
      "name": "python3",
      "display_name": "Python 3"
    },
    "language_info": {
      "name": "python"
    }
  },
  "cells": [
    {
      "cell_type": "markdown",
      "metadata": {
        "id": "view-in-github",
        "colab_type": "text"
      },
      "source": [
        "<a href=\"https://colab.research.google.com/github/Ronymya/Practicas-Python/blob/main/Practicas_Python.ipynb\" target=\"_parent\"><img src=\"https://colab.research.google.com/assets/colab-badge.svg\" alt=\"Open In Colab\"/></a>"
      ]
    },
    {
      "cell_type": "markdown",
      "source": [
        "# Parte 1 Primeros pasos"
      ],
      "metadata": {
        "id": "gvf5ZfvRGb3Y"
      }
    },
    {
      "cell_type": "markdown",
      "source": [
        "1 - Imprime la frase \"Escuela de Datos de Alura\"."
      ],
      "metadata": {
        "id": "pQeJptrtBF30"
      }
    },
    {
      "cell_type": "code",
      "execution_count": 2,
      "metadata": {
        "colab": {
          "base_uri": "https://localhost:8080/"
        },
        "id": "50dCqA9EA-Oy",
        "outputId": "784a6a82-8bee-42b0-980e-c12889f17cf6"
      },
      "outputs": [
        {
          "output_type": "stream",
          "name": "stdout",
          "text": [
            "\"Escuela de Datos Alura\"\n"
          ]
        }
      ],
      "source": [
        "print('\"Escuela de Datos Alura\"')"
      ]
    },
    {
      "cell_type": "markdown",
      "source": [
        "2 - Imprime tu nombre y tu apellido siguiendo la estructura a continuación:\n",
        "\n",
        "Nombre: [tu nombre]\n",
        "Apellido: [tu apellido]"
      ],
      "metadata": {
        "id": "7c2piksZBY71"
      }
    },
    {
      "cell_type": "code",
      "source": [
        "print('Nombre: Rony')\n",
        "print('Apellido: Ramirez')"
      ],
      "metadata": {
        "colab": {
          "base_uri": "https://localhost:8080/"
        },
        "id": "2oRmYCqOBSEo",
        "outputId": "2b4385cc-13b6-4809-ffee-5761e6fc2611"
      },
      "execution_count": 3,
      "outputs": [
        {
          "output_type": "stream",
          "name": "stdout",
          "text": [
            "Nombre: Rony\n",
            "Apellido: Ramirez\n"
          ]
        }
      ]
    },
    {
      "cell_type": "markdown",
      "source": [
        "3 - Imprime tu primer nombre letra por letra."
      ],
      "metadata": {
        "id": "Ix9yagt0B17d"
      }
    },
    {
      "cell_type": "code",
      "source": [
        "print('R')\n",
        "print('O')\n",
        "print('N')\n",
        "print('Y')"
      ],
      "metadata": {
        "colab": {
          "base_uri": "https://localhost:8080/"
        },
        "id": "BmITuDpuBwca",
        "outputId": "d8790cbc-396f-47d5-958a-8ae6aa5e882f"
      },
      "execution_count": 4,
      "outputs": [
        {
          "output_type": "stream",
          "name": "stdout",
          "text": [
            "R\n",
            "O\n",
            "N\n",
            "Y\n"
          ]
        }
      ]
    },
    {
      "cell_type": "markdown",
      "source": [
        "4 - Imprime tu fecha de nacimiento en formato día mes año. Recuerda que los valores de día y año no deben estar entre comillas. Suponiendo una fecha de cumpleaños el 28 de febrero de 2003, el formato debe ser como el siguiente:\n",
        "\n",
        "28 febrero 2003"
      ],
      "metadata": {
        "id": "FlSYoe7-CHAQ"
      }
    },
    {
      "cell_type": "code",
      "source": [
        "print(28, 'de agosto de', 1981)"
      ],
      "metadata": {
        "colab": {
          "base_uri": "https://localhost:8080/"
        },
        "id": "98VW7F1PB89W",
        "outputId": "5eead071-b5a6-44fd-a3e3-edd7e7f5379b"
      },
      "execution_count": 7,
      "outputs": [
        {
          "output_type": "stream",
          "name": "stdout",
          "text": [
            "28 de agosto de 1981\n"
          ]
        }
      ]
    },
    {
      "cell_type": "markdown",
      "source": [
        "5 - Imprime, en una sola instrucción print, el año actual en el que estás realizando este curso. El valor del año debe ser un dato numérico, y la salida de print debe ser la siguiente:\n",
        "\n",
        "Año actual: [año]"
      ],
      "metadata": {
        "id": "Slce0KmaDX8O"
      }
    },
    {
      "cell_type": "code",
      "source": [
        "print('Año actual:', 2025)"
      ],
      "metadata": {
        "colab": {
          "base_uri": "https://localhost:8080/"
        },
        "id": "Gkfxw4kPCOFX",
        "outputId": "c6f41de5-86c2-42e6-8678-ee13e1fdcc83"
      },
      "execution_count": 9,
      "outputs": [
        {
          "output_type": "stream",
          "name": "stdout",
          "text": [
            "Año actual: 2025\n"
          ]
        }
      ]
    },
    {
      "cell_type": "markdown",
      "source": [
        "# Parte 2 Manipulacion de Datos"
      ],
      "metadata": {
        "id": "fMKg7dhAGNK6"
      }
    },
    {
      "cell_type": "markdown",
      "source": [
        "1 - Crea un programa que solicite al usuario que escriba su nombre y luego imprima \"Hola, [nombre].\""
      ],
      "metadata": {
        "id": "ViZiLRmCGH0E"
      }
    },
    {
      "cell_type": "code",
      "source": [
        "nombre = input('Escriba su nombre: ')\n",
        "print('Hola,', nombre)"
      ],
      "metadata": {
        "colab": {
          "base_uri": "https://localhost:8080/"
        },
        "id": "lWLdV84LGkPH",
        "outputId": "fdc7b71d-54a6-4b0a-925e-b1dc619798a2"
      },
      "execution_count": 1,
      "outputs": [
        {
          "output_type": "stream",
          "name": "stdout",
          "text": [
            "Escriba su nombre: Rony\n",
            "Hola, Rony\n"
          ]
        }
      ]
    },
    {
      "cell_type": "markdown",
      "source": [
        "2 - Crea un programa que solicite al usuario que escriba su nombre y edad, y luego imprima \"Hola, [nombre], tienes [edad] años.\""
      ],
      "metadata": {
        "id": "EK49DqVbG1P0"
      }
    },
    {
      "cell_type": "code",
      "source": [
        "nombre = input ('Escriba su nombre: ')\n",
        "edad = input ('Escriba su edad: ')\n",
        "print('Hola,' , nombre,', tienes' , edad, 'años.')"
      ],
      "metadata": {
        "colab": {
          "base_uri": "https://localhost:8080/"
        },
        "id": "jN8MpcAJG06x",
        "outputId": "6e640a09-c95e-4783-c667-9cbfac8dcbcf"
      },
      "execution_count": 7,
      "outputs": [
        {
          "output_type": "stream",
          "name": "stdout",
          "text": [
            "Escriba su nombre: Rony\n",
            "Escriba su edad: 43\n",
            "Hola, Rony , tienes 43 años.\n"
          ]
        }
      ]
    },
    {
      "cell_type": "markdown",
      "source": [
        "3 - Crea un programa que solicite al usuario que escriba su nombre, edad y altura en metros, y luego imprima \"Hola, [nombre], tienes [edad] años y mides [altura] metros.\""
      ],
      "metadata": {
        "id": "vqIsYGtiIBqT"
      }
    },
    {
      "cell_type": "code",
      "source": [
        "nombre = input ('Escriba su nombre: ')\n",
        "edad = input ('Escriba su edad: ')\n",
        "altura = input ('Escriba su altura en metros: ')\n",
        "print('Hola,' , nombre,', tienes' , edad, 'años y mides' , altura, 'metros.')"
      ],
      "metadata": {
        "colab": {
          "base_uri": "https://localhost:8080/"
        },
        "id": "MvOV0ZY7IFuB",
        "outputId": "0d915f14-3f5d-4e94-acea-67b6e39bb9e3"
      },
      "execution_count": 8,
      "outputs": [
        {
          "output_type": "stream",
          "name": "stdout",
          "text": [
            "Escriba su nombre: Rony\n",
            "Escriba su edad: 43\n",
            "Escriba su altura en metros: 1,70\n",
            "Hola, Rony , tienes 43 años y mides 1,70 metros.\n"
          ]
        }
      ]
    },
    {
      "cell_type": "markdown",
      "source": [],
      "metadata": {
        "id": "xf2IpM5uISpj"
      }
    },
    {
      "cell_type": "markdown",
      "source": [
        "4 - Crea un programa que solicite dos valores numéricos al usuario y luego imprima la suma de ambos valores."
      ],
      "metadata": {
        "id": "WhAPaUsBIXBR"
      }
    },
    {
      "cell_type": "code",
      "source": [
        "primer_numero = input('escriba un numero: ')\n",
        "segundo_numero = input('Escriba otro numero: ')\n",
        "print('La suma de los numero es: ', int(primer_numero) + int(segundo_numero))"
      ],
      "metadata": {
        "colab": {
          "base_uri": "https://localhost:8080/"
        },
        "id": "DAnLixzbIYoe",
        "outputId": "739fe980-1142-4e2f-8a35-d86e5e52af63"
      },
      "execution_count": 9,
      "outputs": [
        {
          "output_type": "stream",
          "name": "stdout",
          "text": [
            "escriba un numero: 7\n",
            "Escriba otro numero: 5\n",
            "La suma de los numero es:  12\n"
          ]
        }
      ]
    },
    {
      "cell_type": "markdown",
      "source": [
        "5 - Crea un programa que solicite tres valores numéricos al usuario y luego imprima la suma de los tres valores."
      ],
      "metadata": {
        "id": "I04TpDJeI2ef"
      }
    },
    {
      "cell_type": "code",
      "source": [
        "primer_numero = input('escriba un numero: ')\n",
        "segundo_numero = input('Escriba otro numero: ')\n",
        "tercer_numero = input('Escriba otro numero: ')\n",
        "print('La suma de los numero es: ', int(primer_numero) + int(segundo_numero) + int(tercer_numero))"
      ],
      "metadata": {
        "colab": {
          "base_uri": "https://localhost:8080/"
        },
        "id": "CPa6RhBMIvbE",
        "outputId": "b4968fc7-be4e-4434-a522-9d2420fa09ee"
      },
      "execution_count": 10,
      "outputs": [
        {
          "output_type": "stream",
          "name": "stdout",
          "text": [
            "escriba un numero: 7\n",
            "Escriba otro numero: 10\n",
            "Escriba otro numero: 45\n",
            "La suma de los numero es:  62\n"
          ]
        }
      ]
    },
    {
      "cell_type": "markdown",
      "source": [
        "6 - Crea un programa que solicite dos valores numéricos al usuario y luego imprima la resta del primero menos el segundo valor."
      ],
      "metadata": {
        "id": "usRbSX3yJLBO"
      }
    },
    {
      "cell_type": "code",
      "source": [
        "primer_numero = input('escriba un numero: ')\n",
        "segundo_numero = input('Escriba otro numero: ')\n",
        "print('La resta de los numero es: ', int(primer_numero) - int(segundo_numero))"
      ],
      "metadata": {
        "colab": {
          "base_uri": "https://localhost:8080/"
        },
        "id": "yYKs4HG2JICx",
        "outputId": "134670a7-7797-47a3-eb44-5e6f12dd6936"
      },
      "execution_count": 11,
      "outputs": [
        {
          "output_type": "stream",
          "name": "stdout",
          "text": [
            "escriba un numero: 9\n",
            "Escriba otro numero: 3\n",
            "La resta de los numero es:  6\n"
          ]
        }
      ]
    },
    {
      "cell_type": "markdown",
      "source": [
        "7 - Crea un programa que solicite dos valores numéricos al usuario y luego imprima la multiplicación de los dos valores."
      ],
      "metadata": {
        "id": "Ga9rSoDhJT9-"
      }
    },
    {
      "cell_type": "code",
      "source": [
        "primer_numero = input('escriba un numero: ')\n",
        "segundo_numero = input('Escriba otro numero: ')\n",
        "print('La multiplicacion de los numero es: ', int(primer_numero) * int(segundo_numero))"
      ],
      "metadata": {
        "colab": {
          "base_uri": "https://localhost:8080/"
        },
        "id": "9mJ9IA7bJRnl",
        "outputId": "902d160f-b2c7-46d5-ba95-f619c626ffa0"
      },
      "execution_count": 12,
      "outputs": [
        {
          "output_type": "stream",
          "name": "stdout",
          "text": [
            "escriba un numero: 6\n",
            "Escriba otro numero: 9\n",
            "La multiplicacion de los numero es:  54\n"
          ]
        }
      ]
    },
    {
      "cell_type": "markdown",
      "source": [
        "8 - Crea un programa que solicite dos valores numéricos, un numerador y un denominador, y realice la división entre los dos valores. Asegúrate de que el valor del denominador no sea igual a 0."
      ],
      "metadata": {
        "id": "y4Zmqu_9JjHk"
      }
    },
    {
      "cell_type": "code",
      "source": [
        "primer_numero = input('escriba un numero: ')\n",
        "segundo_numero = input('Escriba otro numero: ')\n",
        "print('La division de los numero es: ', int(primer_numero) / int(segundo_numero))"
      ],
      "metadata": {
        "colab": {
          "base_uri": "https://localhost:8080/"
        },
        "id": "NX8hz7VGJY7H",
        "outputId": "e6a163e0-0f06-41fa-8b0a-729607c9f9c1"
      },
      "execution_count": 13,
      "outputs": [
        {
          "output_type": "stream",
          "name": "stdout",
          "text": [
            "escriba un numero: 10\n",
            "Escriba otro numero: 2\n",
            "La division de los numero es:  5.0\n"
          ]
        }
      ]
    },
    {
      "cell_type": "markdown",
      "source": [
        "9 - Crea un programa que solicite dos valores numéricos, un operador y una potencia, y realice la exponenciación entre estos dos valores."
      ],
      "metadata": {
        "id": "MBWZLavqJtQ2"
      }
    },
    {
      "cell_type": "code",
      "source": [
        "primer_numero = input('escriba un numero: ')\n",
        "segundo_numero = input('Escriba otro numero: ')\n",
        "print('La exponenciacion de los numero es: ', int(primer_numero) ** int(segundo_numero))"
      ],
      "metadata": {
        "colab": {
          "base_uri": "https://localhost:8080/"
        },
        "id": "f-oXsWnBJpk2",
        "outputId": "4e539059-a031-4581-f97f-9bdbd2cc24aa"
      },
      "execution_count": 16,
      "outputs": [
        {
          "output_type": "stream",
          "name": "stdout",
          "text": [
            "escriba un numero: 3\n",
            "Escriba otro numero: 3\n",
            "La exponenciacion de los numero es:  27\n"
          ]
        }
      ]
    },
    {
      "cell_type": "markdown",
      "source": [
        "10 - Crea un programa que solicite dos valores numéricos, un numerador y un denominador, y realice la división entera entre los dos valores. Asegúrate de que el valor del denominador no sea igual a 0."
      ],
      "metadata": {
        "id": "mRH8JMkPJ74Z"
      }
    },
    {
      "cell_type": "code",
      "source": [
        "primer_numero = input('escriba un numero: ')\n",
        "segundo_numero = input('Escriba otro numero: ')\n",
        "print('La division entera de los numero es: ', int(primer_numero) // int(segundo_numero))"
      ],
      "metadata": {
        "colab": {
          "base_uri": "https://localhost:8080/"
        },
        "id": "tBHi1k-IJy7J",
        "outputId": "f6d04a53-fc35-431f-f6ee-0c2b722efdd4"
      },
      "execution_count": 20,
      "outputs": [
        {
          "output_type": "stream",
          "name": "stdout",
          "text": [
            "escriba un numero: 8\n",
            "Escriba otro numero: 4\n",
            "La division entera de los numero es:  2\n"
          ]
        }
      ]
    },
    {
      "cell_type": "markdown",
      "source": [
        "11 - Crea un programa que solicite dos valores numéricos, un numerador y un denominador, y devuelva el resto de la división entre los dos valores. Asegúrate de que el valor del denominador no sea igual a 0."
      ],
      "metadata": {
        "id": "ru2t4LuzKmuY"
      }
    },
    {
      "cell_type": "code",
      "source": [
        "primer_numero = input('escriba un numero: ')\n",
        "segundo_numero = input('Escriba otro numero: ')\n",
        "print('El resto de la division de los numero es: ', int(primer_numero) % int(segundo_numero))"
      ],
      "metadata": {
        "colab": {
          "base_uri": "https://localhost:8080/"
        },
        "id": "rx1pxHbDKCG3",
        "outputId": "22d2d592-8507-4f81-8e2a-50953358c0b3"
      },
      "execution_count": 22,
      "outputs": [
        {
          "output_type": "stream",
          "name": "stdout",
          "text": [
            "escriba un numero: 20\n",
            "Escriba otro numero: 3\n",
            "El resto de la division de los numero es:  2\n"
          ]
        }
      ]
    },
    {
      "cell_type": "markdown",
      "source": [
        "12 - Crea un código que solicite las 3 notas de un estudiante e imprima el promedio de las notas.\n"
      ],
      "metadata": {
        "id": "1f5F5mpjLHNR"
      }
    },
    {
      "cell_type": "code",
      "source": [
        "nota_uno = input('Escriba la primera nota: ')\n",
        "nota_dos = input('Escriba la segunda nota: ')\n",
        "nota_tres = input('Escriba la tercera nota: ')\n",
        "print('El promedio de las notas es: ', (float(nota_uno) + float(nota_dos) + float(nota_tres)) / 3)"
      ],
      "metadata": {
        "colab": {
          "base_uri": "https://localhost:8080/"
        },
        "id": "H6UveYr_Kuii",
        "outputId": "92b8cd74-b49d-48e0-a7af-9f5f340875ae"
      },
      "execution_count": 25,
      "outputs": [
        {
          "output_type": "stream",
          "name": "stdout",
          "text": [
            "Escriba la primera nota: 7.6\n",
            "Escriba la segunda nota: 9\n",
            "Escriba la tercera nota: 6.4\n",
            "El promedio de las notas es:  7.666666666666667\n"
          ]
        }
      ]
    },
    {
      "cell_type": "markdown",
      "source": [
        "13 - Crea un código que calcule e imprima el promedio ponderado de los números 5, 12, 20 y 15 con pesos respectivamente iguales a 1, 2, 3 y 4."
      ],
      "metadata": {
        "id": "1W1i0r4vLu9F"
      }
    },
    {
      "cell_type": "code",
      "source": [
        "primer_numero = input('Escriba el primer numero: ')\n",
        "segundo_numero = input('Escriba el segundo numero: ')\n",
        "tercer_numero = input('Escriba el tercer numero: ')\n",
        "cuarto_numero = input('Escriba el cuarto numero: ')\n",
        "print('El promedio ponderado de los numeros es: ', (int(primer_numero) + int(segundo_numero) * 2 + int(tercer_numero) * 3 + int(cuarto_numero) * 4) / 10)"
      ],
      "metadata": {
        "colab": {
          "base_uri": "https://localhost:8080/"
        },
        "id": "4IxBz1eXLQUc",
        "outputId": "d92b26c8-5abd-41a6-cfce-6ce224b414cd"
      },
      "execution_count": 26,
      "outputs": [
        {
          "output_type": "stream",
          "name": "stdout",
          "text": [
            "Escriba el primer numero: 5\n",
            "Escriba el segundo numero: 12\n",
            "Escriba el tercer numero: 20\n",
            "Escriba el cuarto numero: 15\n",
            "El promedio ponderado de los numeros es:  14.9\n"
          ]
        }
      ]
    },
    {
      "cell_type": "markdown",
      "source": [
        "14 - Crea una variable llamada \"frase\" y asígnale una cadena de texto de tu elección. Luego, imprime la frase en pantalla."
      ],
      "metadata": {
        "id": "h2dhtqNNMvk_"
      }
    },
    {
      "cell_type": "code",
      "source": [
        "frase = \"El conocimiento es poder\"\n",
        "print(frase)\n"
      ],
      "metadata": {
        "colab": {
          "base_uri": "https://localhost:8080/"
        },
        "id": "B6AYTPihMEDG",
        "outputId": "db3e6e05-0b7e-4680-bbe2-1b1d349e38ca"
      },
      "execution_count": 27,
      "outputs": [
        {
          "output_type": "stream",
          "name": "stdout",
          "text": [
            "El conocimiento es poder\n"
          ]
        }
      ]
    },
    {
      "cell_type": "markdown",
      "source": [
        "15 - Crea un código que solicite una frase y luego imprima la frase en pantalla."
      ],
      "metadata": {
        "id": "0hNj8xyeNgS4"
      }
    },
    {
      "cell_type": "code",
      "source": [
        "frase = input(\"Ingresa una frase: \")\n",
        "print(frase)"
      ],
      "metadata": {
        "colab": {
          "base_uri": "https://localhost:8080/"
        },
        "id": "W6oRJPMrNagy",
        "outputId": "3114311c-9b87-43a8-b3ef-13e7456add15"
      },
      "execution_count": 28,
      "outputs": [
        {
          "output_type": "stream",
          "name": "stdout",
          "text": [
            "Ingresa una frase: El conocimiento es poder\n",
            "El conocimiento es poder\n"
          ]
        }
      ]
    },
    {
      "cell_type": "markdown",
      "source": [
        "16 - Crea un código que solicite una frase al usuario y luego imprima la misma frase ingresada pero en mayúsculas."
      ],
      "metadata": {
        "id": "l1SHrv4aM2tP"
      }
    },
    {
      "cell_type": "code",
      "source": [
        "frase = input(\"Ingresa una frase: \")\n",
        "print(frase.upper())"
      ],
      "metadata": {
        "colab": {
          "base_uri": "https://localhost:8080/"
        },
        "id": "_OiQfrnoNplW",
        "outputId": "5e2e1f25-66d4-42ba-fb31-32f056a4f8c1"
      },
      "execution_count": 29,
      "outputs": [
        {
          "output_type": "stream",
          "name": "stdout",
          "text": [
            "Ingresa una frase: el conocimiento es poder\n",
            "EL CONOCIMIENTO ES PODER\n"
          ]
        }
      ]
    },
    {
      "cell_type": "markdown",
      "source": [
        "17 - Crea un código que solicite una frase al usuario y luego imprima la misma frase ingresada pero en minúsculas."
      ],
      "metadata": {
        "id": "m0S3xYiAM3t5"
      }
    },
    {
      "cell_type": "code",
      "source": [
        "frase = input(\"Ingresa una frase: \")\n",
        "print(frase.lower())"
      ],
      "metadata": {
        "colab": {
          "base_uri": "https://localhost:8080/"
        },
        "id": "pgUvBIA3Nydl",
        "outputId": "bcf5fef1-3002-40f5-b3cd-afc08bc5cce1"
      },
      "execution_count": 30,
      "outputs": [
        {
          "output_type": "stream",
          "name": "stdout",
          "text": [
            "Ingresa una frase: EL CONOCIMIENTO ES PODER\n",
            "el conocimiento es poder\n"
          ]
        }
      ]
    },
    {
      "cell_type": "markdown",
      "source": [
        "18 - Crea una variable llamada \"frase\" y asígnale una cadena de texto de tu elección. Luego, imprime la frase sin espacios en blanco al principio y al final.\n"
      ],
      "metadata": {
        "id": "sbkaFXVEM5in"
      }
    },
    {
      "cell_type": "code",
      "source": [
        "frase = \"   Aprende cada día algo nuevo   \"\n",
        "print(frase.strip())"
      ],
      "metadata": {
        "colab": {
          "base_uri": "https://localhost:8080/"
        },
        "id": "jvxeiAWiN4Zo",
        "outputId": "7ccfecf5-52a0-4457-8b3e-a4330d21adb9"
      },
      "execution_count": 31,
      "outputs": [
        {
          "output_type": "stream",
          "name": "stdout",
          "text": [
            "Aprende cada día algo nuevo\n"
          ]
        }
      ]
    },
    {
      "cell_type": "markdown",
      "source": [
        "19 - Crea un código que solicite una frase al usuario y luego imprima la misma frase sin espacios en blanco al principio y al final."
      ],
      "metadata": {
        "id": "tOXY22Z4NEA6"
      }
    },
    {
      "cell_type": "code",
      "source": [
        "frase = input(\"Ingresa una frase: \")\n",
        "print(frase.strip())"
      ],
      "metadata": {
        "colab": {
          "base_uri": "https://localhost:8080/"
        },
        "id": "TVkjhFMbN81s",
        "outputId": "fcdb575d-74b0-456e-c875-5f4a6b3f2d01"
      },
      "execution_count": 32,
      "outputs": [
        {
          "output_type": "stream",
          "name": "stdout",
          "text": [
            "Ingresa una frase:          El conocimiento es porder   \n",
            "El conocimiento es porder\n"
          ]
        }
      ]
    },
    {
      "cell_type": "markdown",
      "source": [
        "20 - Crea un código que solicite una frase al usuario y luego imprima la misma frase sin espacios en blanco al principio y al final, además de convertirla a minúsculas."
      ],
      "metadata": {
        "id": "lzegc5n-NHI6"
      }
    },
    {
      "cell_type": "code",
      "source": [
        "frase = input(\"Ingresa una frase: \")\n",
        "print(frase.strip().lower())"
      ],
      "metadata": {
        "colab": {
          "base_uri": "https://localhost:8080/"
        },
        "id": "hc7vIhTnOFQb",
        "outputId": "04b9d9d5-0315-47ca-d1ea-bbfd33016fdd"
      },
      "execution_count": 33,
      "outputs": [
        {
          "output_type": "stream",
          "name": "stdout",
          "text": [
            "Ingresa una frase:       EL CONOCIMIENTO ES PODER      \n",
            "el conocimiento es poder\n"
          ]
        }
      ]
    },
    {
      "cell_type": "markdown",
      "source": [
        "21 - Crea un código que solicite una frase al usuario y luego imprima la misma frase con todas las vocales \"e\" reemplazadas por la letra \"f\"."
      ],
      "metadata": {
        "id": "06iUPaq9NJHu"
      }
    },
    {
      "cell_type": "code",
      "source": [
        "frase = input(\"Ingresa una frase: \")\n",
        "print(frase.replace(\"e\", \"f\"))"
      ],
      "metadata": {
        "colab": {
          "base_uri": "https://localhost:8080/"
        },
        "id": "uC9gYikiOR0l",
        "outputId": "3ef5cea6-e7ca-4f4e-adc8-dfced3e3b561"
      },
      "execution_count": 35,
      "outputs": [
        {
          "output_type": "stream",
          "name": "stdout",
          "text": [
            "Ingresa una frase: el conocimiento es poder\n",
            "fl conocimifnto fs podfr\n"
          ]
        }
      ]
    },
    {
      "cell_type": "markdown",
      "source": [
        "22 - Crea un código que solicite una frase al usuario y luego imprima la misma frase con todas las vocales \"a\" reemplazadas por el carácter \"@\"."
      ],
      "metadata": {
        "id": "KuU8m42KNK9x"
      }
    },
    {
      "cell_type": "code",
      "source": [
        "frase = input(\"Ingresa una frase: \")\n",
        "print(frase.replace(\"a\", \"@\"))"
      ],
      "metadata": {
        "colab": {
          "base_uri": "https://localhost:8080/"
        },
        "id": "UvlMPJ_VOwcB",
        "outputId": "4b00333e-a49a-42c0-9933-8723b7bcdaab"
      },
      "execution_count": 38,
      "outputs": [
        {
          "output_type": "stream",
          "name": "stdout",
          "text": [
            "Ingresa una frase: aprender cada dia\n",
            "@prender c@d@ di@\n"
          ]
        }
      ]
    },
    {
      "cell_type": "markdown",
      "source": [
        "23 - Crea un código que solicite una frase al usuario y luego imprima la misma frase con todas las consonantes \"s\" reemplazadas por el carácter \"$\"."
      ],
      "metadata": {
        "id": "Jbbue8BbNNYi"
      }
    },
    {
      "cell_type": "code",
      "source": [
        "frase = input(\"Ingresa una frase: \")\n",
        "print(frase.replace(\"s\", \"$\"))"
      ],
      "metadata": {
        "colab": {
          "base_uri": "https://localhost:8080/"
        },
        "id": "MqujRATSO975",
        "outputId": "814ee3cd-fb08-4a70-a9e1-c64d752e6685"
      },
      "execution_count": 39,
      "outputs": [
        {
          "output_type": "stream",
          "name": "stdout",
          "text": [
            "Ingresa una frase: saber abre puertas\n",
            "$aber abre puerta$\n"
          ]
        }
      ]
    }
  ]
}