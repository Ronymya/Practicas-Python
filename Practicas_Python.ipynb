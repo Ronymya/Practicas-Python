{
  "nbformat": 4,
  "nbformat_minor": 0,
  "metadata": {
    "colab": {
      "provenance": []
    },
    "kernelspec": {
      "name": "python3",
      "display_name": "Python 3"
    },
    "language_info": {
      "name": "python"
    }
  },
  "cells": [
    {
      "cell_type": "markdown",
      "source": [
        "1 - Imprime la frase \"Escuela de Datos de Alura\"."
      ],
      "metadata": {
        "id": "pQeJptrtBF30"
      }
    },
    {
      "cell_type": "code",
      "execution_count": 2,
      "metadata": {
        "colab": {
          "base_uri": "https://localhost:8080/"
        },
        "id": "50dCqA9EA-Oy",
        "outputId": "784a6a82-8bee-42b0-980e-c12889f17cf6"
      },
      "outputs": [
        {
          "output_type": "stream",
          "name": "stdout",
          "text": [
            "\"Escuela de Datos Alura\"\n"
          ]
        }
      ],
      "source": [
        "print('\"Escuela de Datos Alura\"')"
      ]
    },
    {
      "cell_type": "markdown",
      "source": [
        "2 - Imprime tu nombre y tu apellido siguiendo la estructura a continuación:\n",
        "\n",
        "Nombre: [tu nombre]\n",
        "Apellido: [tu apellido]"
      ],
      "metadata": {
        "id": "7c2piksZBY71"
      }
    },
    {
      "cell_type": "code",
      "source": [
        "print('Nombre: Rony')\n",
        "print('Apellido: Ramirez')"
      ],
      "metadata": {
        "colab": {
          "base_uri": "https://localhost:8080/"
        },
        "id": "2oRmYCqOBSEo",
        "outputId": "2b4385cc-13b6-4809-ffee-5761e6fc2611"
      },
      "execution_count": 3,
      "outputs": [
        {
          "output_type": "stream",
          "name": "stdout",
          "text": [
            "Nombre: Rony\n",
            "Apellido: Ramirez\n"
          ]
        }
      ]
    },
    {
      "cell_type": "markdown",
      "source": [
        "3 - Imprime tu primer nombre letra por letra."
      ],
      "metadata": {
        "id": "Ix9yagt0B17d"
      }
    },
    {
      "cell_type": "code",
      "source": [
        "print('R')\n",
        "print('O')\n",
        "print('N')\n",
        "print('Y')"
      ],
      "metadata": {
        "colab": {
          "base_uri": "https://localhost:8080/"
        },
        "id": "BmITuDpuBwca",
        "outputId": "d8790cbc-396f-47d5-958a-8ae6aa5e882f"
      },
      "execution_count": 4,
      "outputs": [
        {
          "output_type": "stream",
          "name": "stdout",
          "text": [
            "R\n",
            "O\n",
            "N\n",
            "Y\n"
          ]
        }
      ]
    },
    {
      "cell_type": "markdown",
      "source": [
        "4 - Imprime tu fecha de nacimiento en formato día mes año. Recuerda que los valores de día y año no deben estar entre comillas. Suponiendo una fecha de cumpleaños el 28 de febrero de 2003, el formato debe ser como el siguiente:\n",
        "\n",
        "28 febrero 2003"
      ],
      "metadata": {
        "id": "FlSYoe7-CHAQ"
      }
    },
    {
      "cell_type": "code",
      "source": [
        "print(28, 'de agosto de', 1981)"
      ],
      "metadata": {
        "colab": {
          "base_uri": "https://localhost:8080/"
        },
        "id": "98VW7F1PB89W",
        "outputId": "5eead071-b5a6-44fd-a3e3-edd7e7f5379b"
      },
      "execution_count": 7,
      "outputs": [
        {
          "output_type": "stream",
          "name": "stdout",
          "text": [
            "28 de agosto de 1981\n"
          ]
        }
      ]
    },
    {
      "cell_type": "markdown",
      "source": [
        "5 - Imprime, en una sola instrucción print, el año actual en el que estás realizando este curso. El valor del año debe ser un dato numérico, y la salida de print debe ser la siguiente:\n",
        "\n",
        "Año actual: [año]"
      ],
      "metadata": {
        "id": "Slce0KmaDX8O"
      }
    },
    {
      "cell_type": "code",
      "source": [
        "print('Año actual:', 2025)"
      ],
      "metadata": {
        "colab": {
          "base_uri": "https://localhost:8080/"
        },
        "id": "Gkfxw4kPCOFX",
        "outputId": "c6f41de5-86c2-42e6-8678-ee13e1fdcc83"
      },
      "execution_count": 9,
      "outputs": [
        {
          "output_type": "stream",
          "name": "stdout",
          "text": [
            "Año actual: 2025\n"
          ]
        }
      ]
    },
    {
      "cell_type": "code",
      "source": [],
      "metadata": {
        "id": "22cEqFZZDvcB"
      },
      "execution_count": null,
      "outputs": []
    }
  ]
}